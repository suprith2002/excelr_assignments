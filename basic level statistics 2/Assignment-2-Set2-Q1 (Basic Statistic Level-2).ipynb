{
 "cells": [
  {
   "cell_type": "markdown",
   "id": "a5276a88",
   "metadata": {},
   "source": [
    "# Assignment-2-Set2-Q1 (Basic Statistic Level-2)"
   ]
  },
  {
   "cell_type": "markdown",
   "id": "5ec4e3d8",
   "metadata": {},
   "source": [
    "Q1. The time required for servicing transmissions is normally distributed with µ = 45 minutes and σ = 8 minutes. The service manager plans to have work begin on the transmission of a customer’s car 10 minutes after the car is dropped off and the customer is told that the car will be ready within 1 hour from drop-off. What is the probability that the service manager cannot meet his commitment?"
   ]
  },
  {
   "cell_type": "code",
   "execution_count": 5,
   "id": "d65fe07b",
   "metadata": {
    "ExecuteTime": {
     "end_time": "2021-08-28T01:25:54.858616Z",
     "start_time": "2021-08-28T01:25:54.839704Z"
    }
   },
   "outputs": [],
   "source": [
    "import numpy as np\n",
    "from scipy import stats\n",
    "from scipy.stats import norm"
   ]
  },
  {
   "cell_type": "markdown",
   "id": "ebd1ee42",
   "metadata": {},
   "source": [
    "Let 'X' be the amount of time it takes to complete the repair on a customer's car. So the Probability of completing the car repair with 1 hr of dropping the car and starting the work after 10 mins of car drop (60 mins - 10 mins) is P(X<=50 mins) So, P(X>50) = 1-P(X<=50) i.e. cannot meet his commitment"
   ]
  },
  {
   "cell_type": "code",
   "execution_count": 6,
   "id": "d35b8af3",
   "metadata": {
    "ExecuteTime": {
     "end_time": "2021-08-28T01:25:55.015514Z",
     "start_time": "2021-08-28T01:25:54.989529Z"
    }
   },
   "outputs": [
    {
     "data": {
      "text/plain": [
       "0.625"
      ]
     },
     "execution_count": 6,
     "metadata": {},
     "output_type": "execute_result"
    }
   ],
   "source": [
    "# Find Z-Scores at X=50; Z = (X - µ) / σ \n",
    "Z=(50-45)/8\n",
    "Z"
   ]
  },
  {
   "cell_type": "code",
   "execution_count": 7,
   "id": "d4e578bd",
   "metadata": {
    "ExecuteTime": {
     "end_time": "2021-08-28T01:25:55.156674Z",
     "start_time": "2021-08-28T01:25:55.019512Z"
    }
   },
   "outputs": [
    {
     "data": {
      "text/plain": [
       "0.26598552904870054"
      ]
     },
     "execution_count": 7,
     "metadata": {},
     "output_type": "execute_result"
    }
   ],
   "source": [
    "# Find probability P(X>50) = 1-stats.norm.cdf(abs(z_score))\n",
    "1-stats.norm.cdf(abs(0.625))"
   ]
  },
  {
   "cell_type": "code",
   "execution_count": 8,
   "id": "5e9eb4b6",
   "metadata": {
    "ExecuteTime": {
     "end_time": "2021-08-28T01:25:55.234509Z",
     "start_time": "2021-08-28T01:25:55.161670Z"
    }
   },
   "outputs": [
    {
     "data": {
      "text/plain": [
       "0.7340144709512995"
      ]
     },
     "execution_count": 8,
     "metadata": {},
     "output_type": "execute_result"
    }
   ],
   "source": [
    "# OR Find probability P(X<=50); p_value=stats.norm.cdf(abs(z_score))  \n",
    "p_value=stats.norm.cdf(abs(0.625)) \n",
    "p_value"
   ]
  },
  {
   "cell_type": "code",
   "execution_count": 9,
   "id": "b302b362",
   "metadata": {
    "ExecuteTime": {
     "end_time": "2021-08-28T01:25:55.359810Z",
     "start_time": "2021-08-28T01:25:55.239506Z"
    }
   },
   "outputs": [
    {
     "data": {
      "text/plain": [
       "0.266"
      ]
     },
     "execution_count": 9,
     "metadata": {},
     "output_type": "execute_result"
    }
   ],
   "source": [
    "# P(X>50) = 1 - P(X<=50)\n",
    "1-0.734"
   ]
  },
  {
   "cell_type": "code",
   "execution_count": null,
   "id": "44cd0819",
   "metadata": {},
   "outputs": [],
   "source": []
  },
  {
   "cell_type": "markdown",
   "id": "504fc6b0",
   "metadata": {},
   "source": [
    "# Assignment-2-Set2-Q4 (Basic Statistic Level-2)"
   ]
  },
  {
   "cell_type": "markdown",
   "id": "91983afc",
   "metadata": {},
   "source": [
    "Q4. Let X ~ N(100, 202). Find two values, a and b, symmetric about the mean, such that the probability of the random variable taking a value between them is 0.99."
   ]
  },
  {
   "cell_type": "code",
   "execution_count": 10,
   "id": "369922a3",
   "metadata": {
    "ExecuteTime": {
     "end_time": "2021-08-28T01:25:55.452897Z",
     "start_time": "2021-08-28T01:25:55.362798Z"
    }
   },
   "outputs": [
    {
     "data": {
      "text/plain": [
       "(48.48341392902199, 151.516586070978)"
      ]
     },
     "execution_count": 10,
     "metadata": {},
     "output_type": "execute_result"
    }
   ],
   "source": [
    "stats.norm.interval(0.99,100,20)"
   ]
  },
  {
   "cell_type": "markdown",
   "id": "e63a4cd9",
   "metadata": {},
   "source": [
    "a = 48.48 and b = 151.52"
   ]
  },
  {
   "cell_type": "markdown",
   "id": "d3ca578c",
   "metadata": {},
   "source": [
    "# Assignment-2-Set2-Q5 (Basic Statistic Level-2)\n"
   ]
  },
  {
   "cell_type": "raw",
   "id": "43afc102",
   "metadata": {},
   "source": [
    "Q5. Consider a company that has two different divisions. The annual profits from the two divisions are independent and have distributions Profit1 ~ N(5, 3^2) and Profit2 ~ N(7, 4^2) respectively. Both the profits are in $ Million. Answer the following questions about the total profit of the company in Rupees. Assume that $1 = Rs. 45 \n",
    "A. Specify a Rupee range (centered on the mean) such that it contains 95% probability for the annual profit of the company. \n",
    "B. Specify the 5th percentile of profit (in Rupees) for the company C. Which of the two divisions has a larger probability of making a loss in a given year?"
   ]
  },
  {
   "cell_type": "code",
   "execution_count": 11,
   "id": "5c93a9eb",
   "metadata": {
    "ExecuteTime": {
     "end_time": "2021-08-28T01:25:55.530884Z",
     "start_time": "2021-08-28T01:25:55.455895Z"
    }
   },
   "outputs": [
    {
     "name": "stdout",
     "output_type": "stream",
     "text": [
      "Mean Profit is Rs 540 Million\n"
     ]
    }
   ],
   "source": [
    "# Mean profits from two different divisions of a company = Mean1 + Mean2\n",
    "Mean = 5+7\n",
    "print('Mean Profit is Rs', Mean*45,'Million')"
   ]
  },
  {
   "cell_type": "code",
   "execution_count": 12,
   "id": "b8c77520",
   "metadata": {
    "ExecuteTime": {
     "end_time": "2021-08-28T01:25:55.607502Z",
     "start_time": "2021-08-28T01:25:55.533882Z"
    }
   },
   "outputs": [
    {
     "name": "stdout",
     "output_type": "stream",
     "text": [
      "Standard Deviation is Rs 225.0 Million\n"
     ]
    }
   ],
   "source": [
    "# Variance of profits from two different divisions of a company = SD^2 = SD1^2 + SD2^2\n",
    "SD = np.sqrt((9)+(16))\n",
    "print('Standard Deviation is Rs', SD*45, 'Million')"
   ]
  },
  {
   "cell_type": "code",
   "execution_count": 13,
   "id": "f36131ef",
   "metadata": {
    "ExecuteTime": {
     "end_time": "2021-08-28T01:25:55.700044Z",
     "start_time": "2021-08-28T01:25:55.615507Z"
    }
   },
   "outputs": [
    {
     "name": "stdout",
     "output_type": "stream",
     "text": [
      "Range is Rs (99.00810347848784, 980.9918965215122) in Millions\n"
     ]
    }
   ],
   "source": [
    "# A. Specify a Rupee range (centered on the mean) such that it contains 95% probability for the annual profit of the company.\n",
    "print('Range is Rs',(stats.norm.interval(0.95,540,225)),'in Millions')"
   ]
  },
  {
   "cell_type": "code",
   "execution_count": 14,
   "id": "acd7f3bf",
   "metadata": {
    "ExecuteTime": {
     "end_time": "2021-08-28T01:25:55.809411Z",
     "start_time": "2021-08-28T01:25:55.706023Z"
    }
   },
   "outputs": [
    {
     "name": "stdout",
     "output_type": "stream",
     "text": [
      "5th percentile of profit (in Million Rupees) is 170.0\n"
     ]
    }
   ],
   "source": [
    "# B. Specify the 5th percentile of profit (in Rupees) for the company\n",
    "# To compute 5th Percentile, we use the formula X=μ + Zσ; wherein from z table, 5 percentile = -1.645\n",
    "X= 540+(-1.645)*(225)\n",
    "print('5th percentile of profit (in Million Rupees) is',np.round(X,))"
   ]
  },
  {
   "cell_type": "code",
   "execution_count": 15,
   "id": "5cb7332f",
   "metadata": {
    "ExecuteTime": {
     "end_time": "2021-08-28T01:25:55.903950Z",
     "start_time": "2021-08-28T01:25:55.812389Z"
    }
   },
   "outputs": [],
   "source": [
    "# C. Which of the two divisions has a larger probability of making a loss in a given year?"
   ]
  },
  {
   "cell_type": "code",
   "execution_count": 16,
   "id": "3636ea89",
   "metadata": {
    "ExecuteTime": {
     "end_time": "2021-08-28T01:25:56.061361Z",
     "start_time": "2021-08-28T01:25:55.906955Z"
    }
   },
   "outputs": [
    {
     "data": {
      "text/plain": [
       "0.040059156863817086"
      ]
     },
     "execution_count": 16,
     "metadata": {},
     "output_type": "execute_result"
    }
   ],
   "source": [
    "# Probability of Division 2 making a loss P(X<0)\n",
    "stats.norm.cdf(0,7,4)"
   ]
  },
  {
   "cell_type": "markdown",
   "id": "5e3fbc3a",
   "metadata": {},
   "source": [
    "Inference: Probability of Division 1 making a loss in a given year is more than Division 2."
   ]
  },
  {
   "cell_type": "code",
   "execution_count": null,
   "id": "089ede14",
   "metadata": {},
   "outputs": [],
   "source": []
  }
 ],
 "metadata": {
  "kernelspec": {
   "display_name": "Python 3",
   "language": "python",
   "name": "python3"
  },
  "language_info": {
   "codemirror_mode": {
    "name": "ipython",
    "version": 3
   },
   "file_extension": ".py",
   "mimetype": "text/x-python",
   "name": "python",
   "nbconvert_exporter": "python",
   "pygments_lexer": "ipython3",
   "version": "3.8.8"
  },
  "varInspector": {
   "cols": {
    "lenName": 16,
    "lenType": 16,
    "lenVar": 40
   },
   "kernels_config": {
    "python": {
     "delete_cmd_postfix": "",
     "delete_cmd_prefix": "del ",
     "library": "var_list.py",
     "varRefreshCmd": "print(var_dic_list())"
    },
    "r": {
     "delete_cmd_postfix": ") ",
     "delete_cmd_prefix": "rm(",
     "library": "var_list.r",
     "varRefreshCmd": "cat(var_dic_list()) "
    }
   },
   "types_to_exclude": [
    "module",
    "function",
    "builtin_function_or_method",
    "instance",
    "_Feature"
   ],
   "window_display": false
  }
 },
 "nbformat": 4,
 "nbformat_minor": 5
}
