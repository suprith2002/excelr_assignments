{
 "cells": [
  {
   "cell_type": "markdown",
   "id": "01b8ea9b",
   "metadata": {},
   "source": [
    "# Assignment-2-Set4-Q3 (Basic Statistic Level-2)"
   ]
  },
  {
   "cell_type": "markdown",
   "id": "df5798c0",
   "metadata": {},
   "source": [
    "3. Auditors at a small community bank randomly sample 100 withdrawal transactions made during the week at an ATM machine located near the bank’s main branch. Over the past 2 years, the average withdrawal amount has been $50 with a standard deviation of $40. Since audit investigations are typically expensive, the auditors decide to not initiate further investigations if the mean transaction amount of the sample is between $45 and $55. What is the probability that in any given week, there will be an investigation? A. 1.25% B. 2.5% C. 10.55% D. 21.1% E. 50%"
   ]
  },
  {
   "cell_type": "code",
   "execution_count": 9,
   "id": "937b94b1",
   "metadata": {
    "ExecuteTime": {
     "end_time": "2021-08-28T03:16:39.658865Z",
     "start_time": "2021-08-28T03:16:39.639875Z"
    }
   },
   "outputs": [],
   "source": [
    "import numpy as np\n",
    "from scipy import stats\n",
    "from scipy.stats import normaltest"
   ]
  },
  {
   "cell_type": "markdown",
   "id": "3d85e6db",
   "metadata": {
    "ExecuteTime": {
     "end_time": "2021-08-28T03:14:01.296906Z",
     "start_time": "2021-08-28T03:14:01.170289Z"
    }
   },
   "source": [
    "n=100, Pop Mean=50, Pop SD=40 As no. of samples is more than 30, we can consider it normal distribution"
   ]
  },
  {
   "cell_type": "code",
   "execution_count": 10,
   "id": "282518f7",
   "metadata": {
    "ExecuteTime": {
     "end_time": "2021-08-28T03:16:39.753536Z",
     "start_time": "2021-08-28T03:16:39.662862Z"
    }
   },
   "outputs": [],
   "source": [
    "# For No investigation P(45<X<55)\n",
    "# For Investigation 1-P(45<X<55)"
   ]
  },
  {
   "cell_type": "code",
   "execution_count": 11,
   "id": "eacee214",
   "metadata": {
    "ExecuteTime": {
     "end_time": "2021-08-28T03:16:39.876917Z",
     "start_time": "2021-08-28T03:16:39.758521Z"
    }
   },
   "outputs": [
    {
     "data": {
      "text/plain": [
       "-1.25"
      ]
     },
     "execution_count": 11,
     "metadata": {},
     "output_type": "execute_result"
    }
   ],
   "source": [
    "# find z-scores at x=45; z=(s_mean-P_mean)/(p_SD/sqrt(n))\n",
    "z=(45-50)/(40/100**0.5)\n",
    "z"
   ]
  },
  {
   "cell_type": "code",
   "execution_count": 12,
   "id": "78667e47",
   "metadata": {
    "ExecuteTime": {
     "end_time": "2021-08-28T03:16:40.000984Z",
     "start_time": "2021-08-28T03:16:39.882922Z"
    }
   },
   "outputs": [
    {
     "data": {
      "text/plain": [
       "1.25"
      ]
     },
     "execution_count": 12,
     "metadata": {},
     "output_type": "execute_result"
    }
   ],
   "source": [
    "# find z-scores at x=55; z=(s_mean-P_mean)/(p_SD/sqrt(n))\n",
    "z=(55-50)/(40/100**0.5)\n",
    "z"
   ]
  },
  {
   "cell_type": "code",
   "execution_count": 13,
   "id": "e6bd6c45",
   "metadata": {
    "ExecuteTime": {
     "end_time": "2021-08-28T03:16:40.095870Z",
     "start_time": "2021-08-28T03:16:40.004342Z"
    }
   },
   "outputs": [
    {
     "data": {
      "text/plain": [
       "0.7887004526662893"
      ]
     },
     "execution_count": 13,
     "metadata": {},
     "output_type": "execute_result"
    }
   ],
   "source": [
    "# For No investigation P(45<X<55) using z_scores = P(X<50)-P(X<45)\n",
    "stats.norm.cdf(1.25)-stats.norm.cdf(-1.25)"
   ]
  },
  {
   "cell_type": "code",
   "execution_count": 14,
   "id": "95b9b16a",
   "metadata": {
    "ExecuteTime": {
     "end_time": "2021-08-28T03:16:40.187677Z",
     "start_time": "2021-08-28T03:16:40.099872Z"
    }
   },
   "outputs": [
    {
     "data": {
      "text/plain": [
       "(45.00000495667348, 54.99999504332652)"
      ]
     },
     "execution_count": 14,
     "metadata": {},
     "output_type": "execute_result"
    }
   ],
   "source": [
    "stats.norm.interval(0.7887,loc=50,scale=40/(100**0.5))"
   ]
  },
  {
   "cell_type": "code",
   "execution_count": 15,
   "id": "878e3a30",
   "metadata": {
    "ExecuteTime": {
     "end_time": "2021-08-28T03:16:40.342383Z",
     "start_time": "2021-08-28T03:16:40.194672Z"
    }
   },
   "outputs": [
    {
     "data": {
      "text/plain": [
       "0.21130000000000004"
      ]
     },
     "execution_count": 15,
     "metadata": {},
     "output_type": "execute_result"
    }
   ],
   "source": [
    "# For Investigation 1-P(45<X<55)\n",
    "1-0.7887"
   ]
  },
  {
   "cell_type": "markdown",
   "id": "7dc40869",
   "metadata": {},
   "source": [
    "Answer is D. 21.1%"
   ]
  },
  {
   "cell_type": "code",
   "execution_count": null,
   "id": "3e4e8631",
   "metadata": {},
   "outputs": [],
   "source": []
  }
 ],
 "metadata": {
  "kernelspec": {
   "display_name": "Python 3",
   "language": "python",
   "name": "python3"
  },
  "language_info": {
   "codemirror_mode": {
    "name": "ipython",
    "version": 3
   },
   "file_extension": ".py",
   "mimetype": "text/x-python",
   "name": "python",
   "nbconvert_exporter": "python",
   "pygments_lexer": "ipython3",
   "version": "3.8.8"
  },
  "varInspector": {
   "cols": {
    "lenName": 16,
    "lenType": 16,
    "lenVar": 40
   },
   "kernels_config": {
    "python": {
     "delete_cmd_postfix": "",
     "delete_cmd_prefix": "del ",
     "library": "var_list.py",
     "varRefreshCmd": "print(var_dic_list())"
    },
    "r": {
     "delete_cmd_postfix": ") ",
     "delete_cmd_prefix": "rm(",
     "library": "var_list.r",
     "varRefreshCmd": "cat(var_dic_list()) "
    }
   },
   "types_to_exclude": [
    "module",
    "function",
    "builtin_function_or_method",
    "instance",
    "_Feature"
   ],
   "window_display": false
  }
 },
 "nbformat": 4,
 "nbformat_minor": 5
}
